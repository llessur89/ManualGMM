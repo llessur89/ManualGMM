{
 "cells": [
  {
   "cell_type": "markdown",
   "id": "866f2949",
   "metadata": {},
   "source": [
    "# Manual Gaussian Mixture Model Algorithm\n",
    "### This Jupyter notebook performs the Gaussian Mixture Model algorithm manually, without the use of Scikit-learn.  \n",
    "\n",
    "#### We make several assumptions in this algorithm example:\n",
    "\n",
    "1. The dataset contains multiple Gaussian distributions\n",
    "2. The value of k is 2; that is, the number of clusters we will form in the GMM algorithm is 2\n",
    "3. The dataset is bivariate."
   ]
  },
  {
   "cell_type": "code",
   "execution_count": 1,
   "id": "4042002c",
   "metadata": {},
   "outputs": [],
   "source": [
    "import math as m\n",
    "import numpy as np\n",
    "import random \n",
    "import pandas as pd\n",
    "import matplotlib.pyplot as plt\n"
   ]
  },
  {
   "cell_type": "code",
   "execution_count": 2,
   "id": "62cbfaaa",
   "metadata": {},
   "outputs": [],
   "source": [
    "def multiPDF (row,clust_mean,clust_covar):\n",
    "    \n",
    "    \"\"\"\n",
    "    this function calculates and returns the Likelihood (Probability Density Function [pdf])\n",
    "    of a 2-dimensional single row of a dataset belonging to a cluster.\n",
    "    The input params of this function are:  \n",
    "    row - the single dataset row you want to find the cluster probability for. It should be an array with x and y variables\n",
    "    clust_mean - the calculated mean coordinates of the cluster\n",
    "    clust_covar = the calculated cluster covarance matrix of the cluster\n",
    "    \n",
    "    \"\"\"\n",
    "    \n",
    "    #Exponent requires matrix multiplication!\n",
    "    exponent = (-1/2)*((row-clust_mean).T@np.linalg.inv(clust_covar)@(row-clust_mean))\n",
    "    fraction = 1/np.sqrt(pow(2*np.pi,len(row))*np.linalg.det(clust_covar)) \n",
    "    llh = fraction*pow(np.e,exponent)\n",
    "       \n",
    "    return llh"
   ]
  },
  {
   "cell_type": "code",
   "execution_count": 3,
   "id": "f01ad8fc",
   "metadata": {},
   "outputs": [],
   "source": [
    "def estep (c1_llh,c2_llh):\n",
    "    \n",
    "    \"\"\"\n",
    "    Expectation Step of GMM:\n",
    "    This function calculates the membership probability to each cluster from the cluster likelihoods from multiPDF().\n",
    "    The input is the likelihood of cluster 1 and 2.\n",
    "    \"\"\"\n",
    "       \n",
    "    c1_prob,c2_prob = c1_llh/(c1_llh+c2_llh), c2_llh/(c1_llh+c2_llh)\n",
    "    \n",
    "    return c1_prob, c2_prob"
   ]
  },
  {
   "cell_type": "code",
   "execution_count": 4,
   "id": "24243fae",
   "metadata": {},
   "outputs": [],
   "source": [
    "def recluster (dataset,prob_array):\n",
    "    \n",
    "    \"\"\"\n",
    "    This function forms the 2 new clusters from the cluster probabilities returned from estep(). This function also\n",
    "        stores the associated cluster probabilites for each row in dataset in separate arrays.\n",
    "        \n",
    "        The input parameters are the full dataset to be clustered and an array of cluter probabilities returned from \n",
    "        estep()\n",
    "    \"\"\"\n",
    "    \n",
    "    #initialize needed variables to store the cluster values and the probabilities\n",
    "    i=0\n",
    "    c1_new=[]\n",
    "    c1_prob = []\n",
    "    c2_new=[]\n",
    "    c2_prob = []\n",
    "\n",
    "    #iterate thru the dataset and store the maximum probability in the appropriate c1_new or c2_new var\n",
    "    #store the max prob array in c1_prob or c2_prob accordingly.\n",
    "    while i<len(dataset):\n",
    "\n",
    "        if(prob_array[i,0]>prob_array[i,1]):\n",
    "            c1_new.append(dataset[i])\n",
    "            c1_prob.append(np.max(prob_array[i]))\n",
    "            #need to include the cluster probability for each row in dataset\n",
    "        else:\n",
    "            c2_new.append(dataset[i])\n",
    "            c2_prob.append(np.max(prob_array[i]))\n",
    "        i+=1\n",
    "    \n",
    "    #convert lists to arrays before returning\n",
    "    return np.array(c1_new), np.array(c1_prob), np.array(c2_new), np.array(c2_prob)"
   ]
  },
  {
   "cell_type": "code",
   "execution_count": 5,
   "id": "9da04ec8",
   "metadata": {},
   "outputs": [],
   "source": [
    "def mstep (clust, clust_prob):\n",
    "    \n",
    "    \n",
    "    \"\"\"\n",
    "    Maximization Step of GMM:\n",
    "    this function recalculates the new mean and covariance of a cluster from the inputted cluster and \n",
    "    assoc. 1D probability array.\n",
    "    \"\"\"\n",
    "    \n",
    "    #expand the single column probability array into 2 repeated columns for easier calculation\n",
    "    clust_prob_exp = np.reshape(np.repeat(clust_prob,2,axis=0),(len(clust),clust.ndim))\n",
    "    \n",
    "    #calculate the mean of the new cluster\n",
    "    clust_mean  = np.sum(clust*clust_prob_exp,axis=0)/np.sum(clust_prob)\n",
    "\n",
    "    \n",
    "    #calulate the covariance matrix for the new cluster\n",
    "    diff = clust - clust_mean\n",
    "    clust_covar = np.dot(((diff).T*clust_prob),diff)/sum(clust_prob)\n",
    "    \n",
    "    #add a small value to the diaognal of the covariance matrix \n",
    "    #if the inverse of the covariance mtx is 0 to prevent the 'singular matrix' error in multPDF().\n",
    "    if (np.linalg.det(clust_covar) == 0):\n",
    "        clust_covar[0,0] = clust_covar[0,0] +1e-6\n",
    "        clust_covar[1,1] = clust_covar[1,1] +1e-6\n",
    "    \n",
    "    return clust_mean, clust_covar"
   ]
  },
  {
   "cell_type": "code",
   "execution_count": 6,
   "id": "0a3f9477",
   "metadata": {},
   "outputs": [],
   "source": [
    "def get_clusters(q):\n",
    "\n",
    "    \"\"\"\n",
    "    This function iterates calls the following functions to determine the Gaussian Mixture Model clusters for \n",
    "    the inputted bivariate dataset array, q: multiPDF(), estep(), recluster(), mstep().  \n",
    "    \n",
    "    The iteration process repeats until the estep() returned likelihoods do not \n",
    "    change between iterations, that is until convergence of clusters occur.\n",
    "    Display the # of iterations to convergence. Return the resulting 2 clusters.\n",
    "    \"\"\"\n",
    "\n",
    "\n",
    "    #select initial random means and covariences for cluster 1 and 2\n",
    "    c1_mean = np.array([1,1])\n",
    "    c1_covar = np.array([[8.3,-3.4],[-3.4,6.7]])\n",
    "\n",
    "    c2_mean = np.array([15,20])\n",
    "    c2_covar =np.array([[26.2,10.5],[10.5,11.5]])\n",
    "    llh_stored = []\n",
    "\n",
    "    #iterator\n",
    "    r = 1\n",
    "\n",
    "\n",
    "    #infinate loop; break when likelihoods are equal\n",
    "    while True:\n",
    "        print('\\nIteration Nbr:',r)\n",
    "\n",
    "\n",
    "        #Get the cluster likelihood for each row in dataset q using mutliPDF()\n",
    "        llh_array = np.empty(shape=(len(q),q.ndim))\n",
    "        i=0\n",
    "        for row in q:\n",
    "\n",
    "            #calculate the likelihoods of q belonging to each cluster\n",
    "            llh_array[i,0]= multiPDF(row,c1_mean,c1_covar)\n",
    "            llh_array[i,1]= multiPDF(row,c2_mean,c2_covar)\n",
    "            i+=1     \n",
    "\n",
    "\n",
    "        #print('Likelihood array:',llh_array)\n",
    "\n",
    "\n",
    "        #If the likelihoods are equal rounded to the 9th decimal,\n",
    "        #convergence has occured.  Display the number of iterations and break the loop.\n",
    "        #Else update the likelihood array\n",
    "        if(np.array_equal(np.round(llh_stored,9),np.round(llh_array,9))):\n",
    "            print('\\n# OF ITERATIONS UNTIL CLUSTER CONVERGENCE: ',r)\n",
    "            break\n",
    "        else:\n",
    "            llh_stored = llh_array  \n",
    "\n",
    "            #calculate cluster probabilities\n",
    "            prob_array = np.empty(shape=(len(q),q.ndim))\n",
    "\n",
    "            i=0\n",
    "            for row in llh_array:\n",
    "                prob_array[i] = estep(row[0],row[1])\n",
    "                i+=1\n",
    "            prob_array\n",
    "            #print('Prob array',prob_array)\n",
    "\n",
    "\n",
    "            #Reform the clusters based on the probabilities and create associated \n",
    "            #probability arrays for each cluster\n",
    "            c1,c1_prob,c2,c2_prob = recluster(q,prob_array)\n",
    "\n",
    "\n",
    "            #Calculate the new cluster means and covariances via mstep()\n",
    "            c1_mean, c1_covar = mstep(c1,c1_prob)\n",
    "            print('\\nCluster1 mean/covar',c1_mean,'\\n',c1_covar)\n",
    "            #print('\\nCluster1: ',c1,'\\n')\n",
    "\n",
    "\n",
    "            c2_mean, c2_covar = mstep(c2,c2_prob)\n",
    "            print('Cluster2 mean/covar',c2_mean,'\\n',c2_covar)    \n",
    "            #print('\\nCluster2: ',c2,'\\n')\n",
    "\n",
    "            r+=1\n",
    "        \n",
    "    return c1, c2\n",
    "        "
   ]
  },
  {
   "cell_type": "code",
   "execution_count": 7,
   "id": "168c5fc9",
   "metadata": {},
   "outputs": [
    {
     "data": {
      "text/plain": [
       "array([[25, 30],\n",
       "       [ 1,  2],\n",
       "       [ 2,  3],\n",
       "       [ 4,  5],\n",
       "       [10, 20],\n",
       "       [20, 32],\n",
       "       [ 4,  3],\n",
       "       [ 2,  2]])"
      ]
     },
     "execution_count": 7,
     "metadata": {},
     "output_type": "execute_result"
    }
   ],
   "source": [
    "#define the dataset to cluster\n",
    "q=np.array([[25,30],[1,2],[2,3],[4,5],[10,20],[20,32],[4,3],[2,2],])\n",
    "q"
   ]
  },
  {
   "cell_type": "code",
   "execution_count": 8,
   "id": "3085e727",
   "metadata": {},
   "outputs": [],
   "source": [
    "#select initial random means and covariances for cluster 1 and 2\n",
    "c1_mean = np.array([1,1])\n",
    "c1_covar = np.array([[8.3,-3.4],[-3.4,6.7]])\n",
    "\n",
    "c2_mean = np.array([15,26])\n",
    "c2_covar =np.array([[26.2,10.5],[10.5,11.5]])"
   ]
  },
  {
   "cell_type": "code",
   "execution_count": 9,
   "id": "1b9d7b4e",
   "metadata": {},
   "outputs": [],
   "source": [
    "#Get the cluster likelihood for each row in dataset q and store in an array\n",
    "llh_array = np.empty(shape=(len(q),q.ndim))\n",
    "i=0\n",
    "\n",
    "for row in q:\n",
    "    #calculate the likelihoods of q belonging to each cluster\n",
    "    llh_array[i,0]= multiPDF(row,c1_mean,c1_covar)\n",
    "    llh_array[i,1]= multiPDF(row,c2_mean,c2_covar)\n",
    "    i+=1"
   ]
  },
  {
   "cell_type": "code",
   "execution_count": 10,
   "id": "19e78d31",
   "metadata": {},
   "outputs": [
    {
     "data": {
      "text/plain": [
       "array([[4.12303026e-79, 1.70780630e-03],\n",
       "       [2.18238719e-02, 2.32569132e-14],\n",
       "       [1.30651851e-02, 1.72161745e-13],\n",
       "       [1.06095332e-03, 7.25802735e-12],\n",
       "       [1.59231448e-25, 2.39051562e-03],\n",
       "       [2.47261825e-73, 2.39051562e-03],\n",
       "       [5.22163959e-03, 5.82619029e-14],\n",
       "       [1.87233134e-02, 1.40158733e-14]])"
      ]
     },
     "execution_count": 10,
     "metadata": {},
     "output_type": "execute_result"
    }
   ],
   "source": [
    "#Display all likelihoods \n",
    "llh_array"
   ]
  },
  {
   "cell_type": "code",
   "execution_count": 11,
   "id": "b127261b",
   "metadata": {},
   "outputs": [
    {
     "data": {
      "text/plain": [
       "array([[2.41422593e-76, 1.00000000e+00],\n",
       "       [1.00000000e+00, 1.06566393e-12],\n",
       "       [1.00000000e+00, 1.31771378e-11],\n",
       "       [9.99999993e-01, 6.84104301e-09],\n",
       "       [6.66096664e-23, 1.00000000e+00],\n",
       "       [1.03434516e-70, 1.00000000e+00],\n",
       "       [1.00000000e+00, 1.11577794e-11],\n",
       "       [1.00000000e+00, 7.48578685e-13]])"
      ]
     },
     "execution_count": 11,
     "metadata": {},
     "output_type": "execute_result"
    }
   ],
   "source": [
    "#from the likelihoods, calculate each cluster probability for the query dataset q\n",
    "#Expectation Step (E-Step)\n",
    "\n",
    "#create empty array to store probabilities with same shape as dataset q\n",
    "prob_array = np.empty(shape=(len(q),q.ndim))\n",
    "\n",
    "#From the likelihood array, calculate the cluster probabilities for each row in dataset q\n",
    "i=0\n",
    "for row in llh_array:\n",
    "    prob_array[i] = estep(row[0],row[1])\n",
    "    i+=1\n",
    "prob_array"
   ]
  },
  {
   "cell_type": "code",
   "execution_count": 12,
   "id": "604d6797",
   "metadata": {},
   "outputs": [],
   "source": [
    "#Reform the clusters based on the probabilities and create associated \n",
    "#probability arrays for each cluster\n",
    "c1,c1_prob,c2,c2_prob = recluster(q,prob_array)"
   ]
  },
  {
   "cell_type": "code",
   "execution_count": 13,
   "id": "cb132eef",
   "metadata": {},
   "outputs": [
    {
     "data": {
      "text/plain": [
       "array([[1, 2],\n",
       "       [2, 3],\n",
       "       [4, 5],\n",
       "       [4, 3],\n",
       "       [2, 2]])"
      ]
     },
     "execution_count": 13,
     "metadata": {},
     "output_type": "execute_result"
    }
   ],
   "source": [
    "c1"
   ]
  },
  {
   "cell_type": "code",
   "execution_count": 14,
   "id": "ed2866b7",
   "metadata": {},
   "outputs": [
    {
     "data": {
      "text/plain": [
       "array([1.        , 1.        , 0.99999999, 1.        , 1.        ])"
      ]
     },
     "execution_count": 14,
     "metadata": {},
     "output_type": "execute_result"
    }
   ],
   "source": [
    "c1_prob"
   ]
  },
  {
   "cell_type": "code",
   "execution_count": 15,
   "id": "f0e39e86",
   "metadata": {},
   "outputs": [
    {
     "data": {
      "text/plain": [
       "array([[25, 30],\n",
       "       [10, 20],\n",
       "       [20, 32]])"
      ]
     },
     "execution_count": 15,
     "metadata": {},
     "output_type": "execute_result"
    }
   ],
   "source": [
    "c2"
   ]
  },
  {
   "cell_type": "code",
   "execution_count": 16,
   "id": "766ec96e",
   "metadata": {},
   "outputs": [
    {
     "data": {
      "text/plain": [
       "array([1., 1., 1.])"
      ]
     },
     "execution_count": 16,
     "metadata": {},
     "output_type": "execute_result"
    }
   ],
   "source": [
    "c2_prob"
   ]
  },
  {
   "cell_type": "code",
   "execution_count": 17,
   "id": "e1c30df3",
   "metadata": {},
   "outputs": [],
   "source": [
    "#Calculate the new cluster means and covariances via mstep()\n",
    "c1_mean, c1_covar = mstep(c1,c1_prob)\n",
    "c2_mean, c2_covar = mstep(c2,c2_prob)"
   ]
  },
  {
   "cell_type": "code",
   "execution_count": 18,
   "id": "d3e00875",
   "metadata": {},
   "outputs": [
    {
     "data": {
      "text/plain": [
       "array([2.6, 3. ])"
      ]
     },
     "execution_count": 18,
     "metadata": {},
     "output_type": "execute_result"
    }
   ],
   "source": [
    "c1_mean"
   ]
  },
  {
   "cell_type": "code",
   "execution_count": 19,
   "id": "23bad22d",
   "metadata": {},
   "outputs": [
    {
     "data": {
      "text/plain": [
       "array([[1.44, 1.  ],\n",
       "       [1.  , 1.2 ]])"
      ]
     },
     "execution_count": 19,
     "metadata": {},
     "output_type": "execute_result"
    }
   ],
   "source": [
    "c1_covar"
   ]
  },
  {
   "cell_type": "code",
   "execution_count": 20,
   "id": "0d44f9ba",
   "metadata": {},
   "outputs": [
    {
     "data": {
      "text/plain": [
       "array([18.33333333, 27.33333333])"
      ]
     },
     "execution_count": 20,
     "metadata": {},
     "output_type": "execute_result"
    }
   ],
   "source": [
    "c2_mean"
   ]
  },
  {
   "cell_type": "code",
   "execution_count": 21,
   "id": "956b3240",
   "metadata": {},
   "outputs": [
    {
     "data": {
      "text/plain": [
       "array([[38.88888889, 28.88888889],\n",
       "       [28.88888889, 27.55555556]])"
      ]
     },
     "execution_count": 21,
     "metadata": {},
     "output_type": "execute_result"
    }
   ],
   "source": [
    "c2_covar"
   ]
  },
  {
   "cell_type": "code",
   "execution_count": 22,
   "id": "e5871586",
   "metadata": {},
   "outputs": [
    {
     "name": "stdout",
     "output_type": "stream",
     "text": [
      "\n",
      "Iteration Nbr: 1\n",
      "\n",
      "Cluster1 mean/covar [2.59986156 2.99980338] \n",
      " [[1.43994894 0.99982422]\n",
      " [0.99982422 1.19972614]]\n",
      "Cluster2 mean/covar [18.33333333 27.33333333] \n",
      " [[38.88888889 28.88888889]\n",
      " [28.88888889 27.55555556]]\n",
      "\n",
      "Iteration Nbr: 2\n",
      "\n",
      "Cluster1 mean/covar [2.59999992 2.99999988] \n",
      " [[1.43999997 0.99999989]\n",
      " [0.99999989 1.19999983]]\n",
      "Cluster2 mean/covar [18.33333333 27.33333333] \n",
      " [[38.88888889 28.88888889]\n",
      " [28.88888889 27.55555556]]\n",
      "\n",
      "Iteration Nbr: 3\n",
      "\n",
      "Cluster1 mean/covar [2.59999992 2.99999988] \n",
      " [[1.43999997 0.99999989]\n",
      " [0.99999989 1.19999983]]\n",
      "Cluster2 mean/covar [18.33333333 27.33333333] \n",
      " [[38.88888889 28.88888889]\n",
      " [28.88888889 27.55555556]]\n",
      "\n",
      "Iteration Nbr: 4\n",
      "\n",
      "# OF ITERATIONS UNTIL CLUSTER CONVERGENCE:  4\n"
     ]
    }
   ],
   "source": [
    "#Call get_clusters(), which iterates through expectation maximization until convergence occurs.  \n",
    "c1, c2 = get_clusters(q)"
   ]
  },
  {
   "cell_type": "code",
   "execution_count": 23,
   "id": "d62b6eef",
   "metadata": {},
   "outputs": [
    {
     "data": {
      "text/plain": [
       "array([[1, 2],\n",
       "       [2, 3],\n",
       "       [4, 5],\n",
       "       [4, 3],\n",
       "       [2, 2]])"
      ]
     },
     "execution_count": 23,
     "metadata": {},
     "output_type": "execute_result"
    }
   ],
   "source": [
    "c1"
   ]
  },
  {
   "cell_type": "code",
   "execution_count": 24,
   "id": "761c6d98",
   "metadata": {},
   "outputs": [
    {
     "data": {
      "text/plain": [
       "array([[25, 30],\n",
       "       [10, 20],\n",
       "       [20, 32]])"
      ]
     },
     "execution_count": 24,
     "metadata": {},
     "output_type": "execute_result"
    }
   ],
   "source": [
    "c2"
   ]
  },
  {
   "cell_type": "code",
   "execution_count": 25,
   "id": "dd21d60e",
   "metadata": {},
   "outputs": [
    {
     "data": {
      "text/plain": [
       "<matplotlib.collections.PathCollection at 0x1c53cc7dc30>"
      ]
     },
     "execution_count": 25,
     "metadata": {},
     "output_type": "execute_result"
    },
    {
     "data": {
      "image/png": "[encoded data removed]",
      "text/plain": [
       "<Figure size 640x480 with 1 Axes>"
      ]
     },
     "metadata": {},
     "output_type": "display_data"
    }
   ],
   "source": [
    "#plot each cluster onto a scatterplot.\n",
    "plt.scatter(c1[:,0],c1[:,1],color='orange',edgecolor='black')\n",
    "plt.scatter(c2[:,0],c2[:,1],color='black',edgecolor='black')"
   ]
  },
  {
   "cell_type": "markdown",
   "id": "641444ba",
   "metadata": {},
   "source": [
    "### Predict the cluster id of the query observation (10,6)"
   ]
  },
  {
   "cell_type": "code",
   "execution_count": 26,
   "id": "86e7f263",
   "metadata": {},
   "outputs": [
    {
     "data": {
      "text/plain": [
       "[1.1171988851018099e-11, 2.867170786405658e-11]"
      ]
     },
     "execution_count": 26,
     "metadata": {},
     "output_type": "execute_result"
    }
   ],
   "source": [
    "#store the likelihood in a list\n",
    "llh_pred = []\n",
    "\n",
    "#create the query record in a 2D array\n",
    "pred = np.array([10,6])\n",
    "\n",
    "#Calculate the likelihoods by runing multiPDF() for each cluster mean/covar\n",
    "llh_pred.append(multiPDF(pred,c1_mean,c1_covar))\n",
    "llh_pred.append(multiPDF(pred,c2_mean,c2_covar))\n",
    "\n",
    "llh_pred"
   ]
  },
  {
   "cell_type": "code",
   "execution_count": 27,
   "id": "3d9c6b26",
   "metadata": {},
   "outputs": [
    {
     "data": {
      "text/plain": [
       "(0.2803953892860355, 0.7196046107139645)"
      ]
     },
     "execution_count": 27,
     "metadata": {},
     "output_type": "execute_result"
    }
   ],
   "source": [
    "#Calculate the probabilities from the likelihoods using etep()\n",
    "#This returns the fuzzy cluster value\n",
    "estep(llh_pred[0],llh_pred[1])"
   ]
  },
  {
   "cell_type": "code",
   "execution_count": 28,
   "id": "0cef8a82",
   "metadata": {},
   "outputs": [
    {
     "data": {
      "text/plain": [
       "1"
      ]
     },
     "execution_count": 28,
     "metadata": {},
     "output_type": "execute_result"
    }
   ],
   "source": [
    "#return the cluster id that 10,6 is likely to be part of\n",
    "np.argmax(estep(llh_pred[0],llh_pred[1]))"
   ]
  },
  {
   "cell_type": "markdown",
   "id": "eb496c35",
   "metadata": {},
   "source": [
    "### Use SciKitLearn's GMM package to calculate the GMM Fuzzy Clusters using the same dataset q to confirm manual GMM results."
   ]
  },
  {
   "cell_type": "code",
   "execution_count": 29,
   "id": "1e9153a7",
   "metadata": {},
   "outputs": [],
   "source": [
    "from sklearn.mixture import GaussianMixture as GMM"
   ]
  },
  {
   "cell_type": "code",
   "execution_count": 30,
   "id": "129815a9",
   "metadata": {},
   "outputs": [],
   "source": [
    "#Create an object reference of GMM. Create 2 clusters using n_components\n",
    "model = GMM(n_components=2,verbose=True,verbose_interval=1)"
   ]
  },
  {
   "cell_type": "code",
   "execution_count": 31,
   "id": "11d3744f",
   "metadata": {},
   "outputs": [
    {
     "name": "stdout",
     "output_type": "stream",
     "text": [
      "Initialization 0\n",
      "  Iteration 1\n",
      "  Iteration 2\n",
      "Initialization converged: True\n"
     ]
    }
   ],
   "source": [
    "#Fit the model using the dataset q and return the labels in a single statement using the convenience method fit_predict\n",
    "label = model.fit_predict(q)"
   ]
  },
  {
   "cell_type": "code",
   "execution_count": 32,
   "id": "6d2fb4d0",
   "metadata": {},
   "outputs": [
    {
     "data": {
      "text/plain": [
       "array([1, 0, 0, 0, 1, 1, 0, 0], dtype=int64)"
      ]
     },
     "execution_count": 32,
     "metadata": {},
     "output_type": "execute_result"
    }
   ],
   "source": [
    "label"
   ]
  },
  {
   "cell_type": "code",
   "execution_count": 33,
   "id": "e2231105",
   "metadata": {},
   "outputs": [
    {
     "data": {
      "text/plain": [
       "array([[ 2.59999995,  2.99999993],\n",
       "       [18.33333238, 27.33333185]])"
      ]
     },
     "execution_count": 33,
     "metadata": {},
     "output_type": "execute_result"
    }
   ],
   "source": [
    "#Display the final means of the converged clusters\n",
    "model.means_"
   ]
  },
  {
   "cell_type": "code",
   "execution_count": 34,
   "id": "87ea2757",
   "metadata": {},
   "outputs": [
    {
     "data": {
      "text/plain": [
       "array([[[ 1.44000098,  0.99999994],\n",
       "        [ 0.99999994,  1.2000009 ]],\n",
       "\n",
       "       [[38.88890118, 28.8889085 ],\n",
       "        [28.8889085 , 27.55558817]]])"
      ]
     },
     "execution_count": 34,
     "metadata": {},
     "output_type": "execute_result"
    }
   ],
   "source": [
    "#Display the final covariances of the converged clusters\n",
    "model.covariances_"
   ]
  },
  {
   "cell_type": "code",
   "execution_count": 35,
   "id": "43e18cc8",
   "metadata": {},
   "outputs": [
    {
     "data": {
      "text/plain": [
       "array([[9.81875758e-131, 1.00000000e+000],\n",
       "       [9.99999995e-001, 5.09488968e-009],\n",
       "       [9.99999993e-001, 7.21967107e-009],\n",
       "       [9.99999818e-001, 1.81567252e-007],\n",
       "       [1.68765248e-067, 1.00000000e+000],\n",
       "       [2.18608101e-167, 1.00000000e+000],\n",
       "       [9.99999997e-001, 2.53258879e-009],\n",
       "       [9.99999999e-001, 1.05977353e-009]])"
      ]
     },
     "execution_count": 35,
     "metadata": {},
     "output_type": "execute_result"
    }
   ],
   "source": [
    "#Display the cluster probabilities of each row in the dataset q.\n",
    "#This is the fuzzy cluter results.\n",
    "model.predict_proba(q)"
   ]
  },
  {
   "cell_type": "code",
   "execution_count": 36,
   "id": "a39c8d92",
   "metadata": {},
   "outputs": [
    {
     "data": {
      "text/plain": [
       "array([-6.5528151 , -3.05025343, -2.44585787, -3.87442806, -6.55281422,\n",
       "       -6.55281404, -3.76453543, -2.6106931 ])"
      ]
     },
     "execution_count": 36,
     "metadata": {},
     "output_type": "execute_result"
    }
   ],
   "source": [
    "#display the log-likelihood of each row in q.  This is equal to each row's totaled likelihoods then taking the \n",
    "#log of the sum:   np.log(np.sum(row's likelihood, axis=1))\n",
    "\n",
    "score = model.score_samples(q)\n",
    "score"
   ]
  },
  {
   "cell_type": "code",
   "execution_count": 37,
   "id": "bc39e5c1",
   "metadata": {},
   "outputs": [
    {
     "data": {
      "text/plain": [
       "-4.425526408391502"
      ]
     },
     "execution_count": 37,
     "metadata": {},
     "output_type": "execute_result"
    }
   ],
   "source": [
    "#display the average log-likelihood of all rows in q.\n",
    "#This is equal to np.mean(model.score_samples(q))\n",
    "model.score(q)"
   ]
  },
  {
   "cell_type": "code",
   "execution_count": 38,
   "id": "f71cb09d",
   "metadata": {},
   "outputs": [
    {
     "data": {
      "text/plain": [
       "array([-6.3725456 , -3.82475087, -4.33780421, -6.84858741, -6.0362462 ,\n",
       "       -6.0362462 , -5.25494383, -3.97798583])"
      ]
     },
     "execution_count": 38,
     "metadata": {},
     "output_type": "execute_result"
    }
   ],
   "source": [
    "#manually calculate the log likelihood of the final manual GMM likelihood array above\n",
    "#this is not to be compared to the model.score_samples above, as the likelihoods are different, but they should\n",
    "#be close.\n",
    "np.log(np.sum(llh_array,axis=1))"
   ]
  },
  {
   "cell_type": "code",
   "execution_count": 39,
   "id": "c3e3305c",
   "metadata": {},
   "outputs": [
    {
     "data": {
      "text/plain": [
       "array([ 0.1802695 , -0.77449743, -1.89194635, -2.97415935,  0.51656802,\n",
       "        0.51656785, -1.4904084 , -1.36729272])"
      ]
     },
     "execution_count": 39,
     "metadata": {},
     "output_type": "execute_result"
    }
   ],
   "source": [
    "#take the difference of the two likelihoods\n",
    "np.log(np.sum(llh_array,axis=1)) - score"
   ]
  },
  {
   "cell_type": "code",
   "execution_count": 40,
   "id": "a89fe939",
   "metadata": {},
   "outputs": [
    {
     "data": {
      "text/plain": [
       "array([[0.39372668, 0.60627332]])"
      ]
     },
     "execution_count": 40,
     "metadata": {},
     "output_type": "execute_result"
    }
   ],
   "source": [
    "#Predict the cluster probabilities for the (10,6) query record we created before:\n",
    "model.predict_proba(np.array([[10,6]]))"
   ]
  },
  {
   "cell_type": "code",
   "execution_count": 41,
   "id": "a0242dfa",
   "metadata": {},
   "outputs": [
    {
     "data": {
      "text/plain": [
       "array([1], dtype=int64)"
      ]
     },
     "execution_count": 41,
     "metadata": {},
     "output_type": "execute_result"
    }
   ],
   "source": [
    "#Display the predicted cluster label for the (10,6) query record we created before:\n",
    "model.predict(np.array([[10,6]]))"
   ]
  },
  {
   "cell_type": "code",
   "execution_count": 42,
   "id": "4a848663",
   "metadata": {},
   "outputs": [
    {
     "data": {
      "text/plain": [
       "92.80842253426403"
      ]
     },
     "execution_count": 42,
     "metadata": {},
     "output_type": "execute_result"
    }
   ],
   "source": [
    "#Akaike Info Criterion value for comparing model parameters\n",
    "model.aic(q)"
   ]
  },
  {
   "cell_type": "code",
   "execution_count": 43,
   "id": "5a1fcbab",
   "metadata": {},
   "outputs": [
    {
     "data": {
      "text/plain": [
       "93.68227949274223"
      ]
     },
     "execution_count": 43,
     "metadata": {},
     "output_type": "execute_result"
    }
   ],
   "source": [
    "#Bayesian Info Criterion value for comparing model parameters\n",
    "model.bic(q)"
   ]
  },
  {
   "cell_type": "markdown",
   "id": "9304c74d",
   "metadata": {},
   "source": [
    "### Create a scatter subplot to compare the manual GMM vs SKLearn's results"
   ]
  },
  {
   "cell_type": "code",
   "execution_count": 44,
   "id": "a6c4a1df",
   "metadata": {},
   "outputs": [
    {
     "data": {
      "image/png": "[encoded data removed]",
      "text/plain": [
       "<Figure size 640x480 with 2 Axes>"
      ]
     },
     "metadata": {},
     "output_type": "display_data"
    }
   ],
   "source": [
    "#create subplot and figure objects; share both axes\n",
    "fig, ax = plt.subplots(1,2,sharey=True,sharex=True)\n",
    "\n",
    "#plot get_PDF() results in leftmost subplot\n",
    "\n",
    "ax[0].scatter(c1[:,0],c1[:,1],color='orange',edgecolor='black')\n",
    "ax[0].scatter(c2[:,0],c2[:,1],color='black',edgecolor='black')\n",
    "ax[0].title.set_text('Manual GMM Clusters')\n",
    "\n",
    "ax[1].scatter(q[:,0],q[:,1],c=label,cmap='copper_r',edgecolor='black')\n",
    "ax[1].title.set_text('SKLearn\\'s GMM Clusters')"
   ]
  },
  {
   "cell_type": "markdown",
   "id": "a320048d",
   "metadata": {},
   "source": [
    "### Generate 150 random Gaussian distribution samples using the fitted model.  Use manual GMM algorithm and SKLearn to form the clusters.  Compare the results in a subplot scatterplot."
   ]
  },
  {
   "cell_type": "code",
   "execution_count": 45,
   "id": "87cd9604",
   "metadata": {},
   "outputs": [],
   "source": [
    "#Create the 150 random samples\n",
    "model.random_state = 99\n",
    "spl = model.sample(150)"
   ]
  },
  {
   "cell_type": "code",
   "execution_count": 46,
   "id": "da2029b4",
   "metadata": {},
   "outputs": [
    {
     "data": {
      "text/plain": [
       "array([[ 1.78315082,  3.26960442],\n",
       "       [ 2.80206983,  3.12765718],\n",
       "       [ 1.43175897,  2.5808974 ],\n",
       "       [ 3.60793198,  2.12379409],\n",
       "       [ 2.53621977,  3.45588351],\n",
       "       [ 2.40384825,  3.167078  ],\n",
       "       [ 2.82397894,  2.12576183],\n",
       "       [ 1.80789003,  1.86353705],\n",
       "       [ 2.95300892,  3.75503242],\n",
       "       [ 3.3377245 ,  3.85020303],\n",
       "       [ 3.64619774,  3.78794771],\n",
       "       [ 3.19768003,  3.18483352],\n",
       "       [ 3.54845936,  3.80771026],\n",
       "       [ 2.11784803,  3.26457619],\n",
       "       [ 3.23525181,  3.60298478],\n",
       "       [-0.06431067,  0.92925495],\n",
       "       [ 1.88830489,  2.69260351],\n",
       "       [ 4.63538731,  4.62337461],\n",
       "       [ 4.72201406,  5.52660163],\n",
       "       [ 0.85599664,  1.0573961 ],\n",
       "       [ 1.00392969,  0.74538847],\n",
       "       [ 3.75501057,  4.43796972],\n",
       "       [ 3.71550398,  3.61830665],\n",
       "       [ 1.72223728,  1.49251299],\n",
       "       [ 2.96546727,  3.23659283],\n",
       "       [ 1.89624187,  2.9231012 ],\n",
       "       [ 3.16313047,  2.60332972],\n",
       "       [ 0.38011043,  3.18045985],\n",
       "       [ 1.45581016,  2.40406991],\n",
       "       [ 3.12224113,  3.27482205],\n",
       "       [ 3.95661369,  4.66512809],\n",
       "       [ 2.27690382,  3.67631574],\n",
       "       [ 3.27694814,  4.6206734 ],\n",
       "       [ 3.1805438 ,  3.05811507],\n",
       "       [ 3.37734107,  3.23430369],\n",
       "       [ 4.74579796,  5.38171361],\n",
       "       [ 1.24181861,  2.75103468],\n",
       "       [ 1.55168594,  2.56043289],\n",
       "       [ 4.44745527,  4.77592475],\n",
       "       [ 3.99677083,  4.03050843],\n",
       "       [ 0.99428769,  1.59954368],\n",
       "       [ 5.95434862,  5.22701836],\n",
       "       [ 3.3313758 ,  3.48013466],\n",
       "       [ 1.21897324,  2.40044682],\n",
       "       [ 1.58698805,  2.27497633],\n",
       "       [ 3.07101039,  3.1474454 ],\n",
       "       [ 1.76022146,  2.95328498],\n",
       "       [ 0.79346019,  1.46728605],\n",
       "       [ 1.71219151,  3.32300633],\n",
       "       [ 3.53549666,  4.44392672],\n",
       "       [ 2.9075711 ,  4.46455199],\n",
       "       [ 0.38514498,  2.26481174],\n",
       "       [ 0.52878446,  1.79098794],\n",
       "       [ 3.58385272,  4.24278686],\n",
       "       [ 1.40064926,  2.29287998],\n",
       "       [ 2.67245867,  3.18159465],\n",
       "       [ 2.53861272,  2.17823565],\n",
       "       [ 1.6190222 ,  2.54460472],\n",
       "       [ 2.50239716,  3.41278957],\n",
       "       [ 1.64948283,  1.39657001],\n",
       "       [ 0.54450466,  1.93631435],\n",
       "       [ 1.08168328,  2.39868767],\n",
       "       [ 1.78449612,  2.27699165],\n",
       "       [ 3.24659106,  3.95678502],\n",
       "       [ 2.70580507,  2.57522795],\n",
       "       [ 0.28000853,  1.57022124],\n",
       "       [ 3.5391738 ,  2.65602242],\n",
       "       [ 3.37500849,  4.05288467],\n",
       "       [ 3.38313265,  2.70970637],\n",
       "       [ 2.35435945,  2.66338372],\n",
       "       [ 3.52153938,  2.88675558],\n",
       "       [ 2.6162093 ,  2.21244314],\n",
       "       [ 2.41188299,  3.70085593],\n",
       "       [ 1.22740366,  1.68650168],\n",
       "       [ 5.83379346,  6.43361381],\n",
       "       [ 4.17725017,  3.35747993],\n",
       "       [ 2.44224347,  1.47696983],\n",
       "       [ 1.45101223,  2.6573707 ],\n",
       "       [ 1.94861395,  2.57879304],\n",
       "       [ 2.9075921 ,  2.91114737],\n",
       "       [ 2.95552091,  5.08637697],\n",
       "       [ 3.4501397 ,  3.06375637],\n",
       "       [ 2.49202361,  3.33605915],\n",
       "       [ 1.51978399,  1.8711714 ],\n",
       "       [ 3.11452463,  2.85745118],\n",
       "       [ 2.5710654 ,  3.62130442],\n",
       "       [19.16679463, 27.09455864],\n",
       "       [18.25418129, 25.29928656],\n",
       "       [32.12040951, 37.45314077],\n",
       "       [36.92908713, 41.96973885],\n",
       "       [14.5973229 , 26.74642756],\n",
       "       [15.04958577, 24.72251843],\n",
       "       [25.96060431, 30.8421347 ],\n",
       "       [20.68602617, 27.09052553],\n",
       "       [24.15931686, 32.24002494],\n",
       "       [25.78466765, 28.88889538],\n",
       "       [20.84154734, 27.00533763],\n",
       "       [13.57059256, 26.67335648],\n",
       "       [13.14850917, 24.16605311],\n",
       "       [11.19816991, 18.99128382],\n",
       "       [21.62799516, 30.51178515],\n",
       "       [20.57243171, 29.54156843],\n",
       "       [20.96857744, 28.84134395],\n",
       "       [20.02582123, 30.60011355],\n",
       "       [21.09071582, 26.30162011],\n",
       "       [19.8303834 , 27.03169732],\n",
       "       [ 9.05988659, 20.61481653],\n",
       "       [10.4289381 , 21.10850282],\n",
       "       [11.75891338, 23.84982723],\n",
       "       [17.07239719, 21.91364033],\n",
       "       [15.43156023, 28.37299616],\n",
       "       [16.8051157 , 29.02274958],\n",
       "       [21.64842728, 29.28850068],\n",
       "       [15.87143383, 21.74698463],\n",
       "       [ 8.45047207, 18.50720532],\n",
       "       [11.04419043, 19.828909  ],\n",
       "       [14.25214917, 22.92756429],\n",
       "       [28.26094697, 34.43636839],\n",
       "       [18.4343236 , 28.62512969],\n",
       "       [22.51861094, 32.08634238],\n",
       "       [22.36403972, 25.66549724],\n",
       "       [10.98304273, 24.00006498],\n",
       "       [20.74870108, 28.84908534],\n",
       "       [21.06594117, 30.54025458],\n",
       "       [20.91004125, 31.54865745],\n",
       "       [20.82065487, 26.11064374],\n",
       "       [13.55680475, 24.5880058 ],\n",
       "       [29.39876784, 36.90717032],\n",
       "       [15.01878541, 24.37035335],\n",
       "       [19.74623608, 31.59052142],\n",
       "       [20.22137945, 33.2778955 ],\n",
       "       [21.58329751, 32.37571443],\n",
       "       [ 8.88823285, 16.33049225],\n",
       "       [16.30421005, 23.84732987],\n",
       "       [11.65833173, 25.45704009],\n",
       "       [ 6.21489163, 19.94686235],\n",
       "       [19.46748558, 30.08546673],\n",
       "       [ 0.67987956, 15.98083988],\n",
       "       [ 3.23794373, 17.84672621],\n",
       "       [25.83140528, 32.86337015],\n",
       "       [14.99135648, 22.2796331 ],\n",
       "       [16.31023487, 20.87907988],\n",
       "       [17.85898047, 28.49861946],\n",
       "       [28.79326459, 37.40568944],\n",
       "       [11.40457062, 24.07274788],\n",
       "       [29.85109414, 33.32010838],\n",
       "       [ 9.61328661, 23.15007739],\n",
       "       [26.06141223, 30.47539857],\n",
       "       [14.44619296, 19.34527244],\n",
       "       [15.91689033, 21.32775459]])"
      ]
     },
     "execution_count": 46,
     "metadata": {},
     "output_type": "execute_result"
    }
   ],
   "source": [
    "spl[0]"
   ]
  },
  {
   "cell_type": "code",
   "execution_count": 47,
   "id": "57c38379",
   "metadata": {},
   "outputs": [
    {
     "name": "stdout",
     "output_type": "stream",
     "text": [
      "\n",
      "Iteration Nbr: 1\n",
      "\n",
      "Cluster1 mean/covar [2.54534781 3.05581874] \n",
      " [[1.47815803 1.04486673]\n",
      " [1.04486673 1.18030102]]\n",
      "Cluster2 mean/covar [17.97761661 26.83245816] \n",
      " [[46.34591248 33.09345462]\n",
      " [33.09345462 29.33436316]]\n",
      "\n",
      "Iteration Nbr: 2\n",
      "\n",
      "Cluster1 mean/covar [2.54864702 3.05916926] \n",
      " [[1.4872902  1.05457227]\n",
      " [1.05457227 1.19007803]]\n",
      "Cluster2 mean/covar [17.97761658 26.83245814] \n",
      " [[46.34591296 33.09345492]\n",
      " [33.09345492 29.33436333]]\n",
      "\n",
      "Iteration Nbr: 3\n",
      "\n",
      "Cluster1 mean/covar [2.54864703 3.05916928] \n",
      " [[1.48729024 1.05457231]\n",
      " [1.05457231 1.19007808]]\n",
      "Cluster2 mean/covar [17.97761658 26.83245814] \n",
      " [[46.34591296 33.09345492]\n",
      " [33.09345492 29.33436333]]\n",
      "\n",
      "Iteration Nbr: 4\n",
      "\n",
      "Cluster1 mean/covar [2.54864703 3.05916928] \n",
      " [[1.48729024 1.05457231]\n",
      " [1.05457231 1.19007808]]\n",
      "Cluster2 mean/covar [17.97761658 26.83245814] \n",
      " [[46.34591296 33.09345492]\n",
      " [33.09345492 29.33436333]]\n",
      "\n",
      "Iteration Nbr: 5\n",
      "\n",
      "# OF ITERATIONS UNTIL CLUSTER CONVERGENCE:  5\n"
     ]
    }
   ],
   "source": [
    "#determine the clusters using manual GMM process.\n",
    "c1, c2 = get_clusters(spl[0])"
   ]
  },
  {
   "cell_type": "code",
   "execution_count": 48,
   "id": "a386f6c7",
   "metadata": {},
   "outputs": [
    {
     "data": {
      "image/png": "[encoded data removed]",
      "text/plain": [
       "<Figure size 1500x700 with 2 Axes>"
      ]
     },
     "metadata": {},
     "output_type": "display_data"
    }
   ],
   "source": [
    "#plot results\n",
    "fig, ax = plt.subplots(1,2,sharey=True,sharex=True,figsize=(15,7))\n",
    "\n",
    "\n",
    "#plot the predicted clusters from manual GMM algorithm\n",
    "ax[0].scatter(c2[:,0],c2[:,1],color='black',edgecolor='black')\n",
    "ax[0].scatter(c1[:,0],c1[:,1],color='orange', edgecolor='black')\n",
    "ax[0].title.set_text('Manual GMM Clusters')\n",
    "\n",
    "#plot the 1K samples and predicted clusters from SKLearn's fitted model\n",
    "ax[1].scatter(spl[0][:,0],spl[0][:,1],c=spl[1],cmap='copper_r',edgecolor='black')\n",
    "ax[1].title.set_text('SKLearn\\'s GMM Clusters')"
   ]
  },
  {
   "cell_type": "markdown",
   "id": "f4670c07",
   "metadata": {},
   "source": [
    "### The above results appear to be identical.  It is conclusive that the manual implementation of the GMM  effectively replicates the functionality of Scikit-learn's GMM algorithm."
   ]
  }
 ],
 "metadata": {
  "kernelspec": {
   "display_name": "Python 3 (ipykernel)",
   "language": "python",
   "name": "python3"
  },
  "language_info": {
   "codemirror_mode": {
    "name": "ipython",
    "version": 3
   },
   "file_extension": ".py",
   "mimetype": "text/x-python",
   "name": "python",
   "nbconvert_exporter": "python",
   "pygments_lexer": "ipython3",
   "version": "3.10.9"
  }
 },
 "nbformat": 4,
 "nbformat_minor": 5
}
